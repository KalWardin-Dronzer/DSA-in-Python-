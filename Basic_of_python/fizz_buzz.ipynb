{
 "cells": [
  {
   "cell_type": "code",
   "execution_count": null,
   "id": "b65efdf9",
   "metadata": {},
   "outputs": [
    {
     "name": "stdout",
     "output_type": "stream",
     "text": [
      "none\n",
      "1\n",
      "none\n",
      "2\n",
      "3  is a fizz no.\n",
      "3\n",
      "none\n",
      "4\n",
      "5  is a buzz no.\n",
      "5\n",
      "6  is a fizz no.\n",
      "6\n",
      "none\n",
      "7\n",
      "none\n",
      "8\n",
      "9  is a fizz no.\n",
      "9\n",
      "10  is a buzz no.\n",
      "10\n",
      "none\n",
      "11\n",
      "12  is a fizz no.\n",
      "12\n",
      "none\n",
      "13\n",
      "none\n",
      "14\n",
      "15  is a fizz buzz no.\n",
      "15\n",
      "none\n",
      "16\n"
     ]
    }
   ],
   "source": [
    "num = int(input(\"enter a num: \"))\n",
    "i=1\n",
    "while (i<= num):\n",
    "    if (i%3 ==0 and i%5 == 0):\n",
    "        print(i, \" is a fizz buzz no.\")\n",
    "    elif (i%3 == 0):\n",
    "        print(i, \" is a fizz no.\")\n",
    "    elif (i%5 == 0):\n",
    "        print(i, \" is a buzz no.\")\n",
    "    else :\n",
    "        print(\"none\")\n",
    "    print(i)\n",
    "    i+=1\n",
    "    "
   ]
  },
  {
   "cell_type": "code",
   "execution_count": null,
   "id": "aaf4bbcd",
   "metadata": {},
   "outputs": [],
   "source": []
  }
 ],
 "metadata": {
  "kernelspec": {
   "display_name": "base",
   "language": "python",
   "name": "python3"
  },
  "language_info": {
   "codemirror_mode": {
    "name": "ipython",
    "version": 3
   },
   "file_extension": ".py",
   "mimetype": "text/x-python",
   "name": "python",
   "nbconvert_exporter": "python",
   "pygments_lexer": "ipython3",
   "version": "3.13.5"
  }
 },
 "nbformat": 4,
 "nbformat_minor": 5
}
